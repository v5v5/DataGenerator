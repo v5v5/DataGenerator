{
  "nbformat": 4,
  "nbformat_minor": 0,
  "metadata": {
    "colab": {
      "name": "random alcoholic beverages",
      "provenance": [],
      "collapsed_sections": [],
      "authorship_tag": "ABX9TyP4bJZyak50S4RTJwWnfwrl",
      "include_colab_link": true
    },
    "kernelspec": {
      "name": "python3",
      "display_name": "Python 3"
    },
    "language_info": {
      "name": "python"
    }
  },
  "cells": [
    {
      "cell_type": "markdown",
      "metadata": {
        "id": "view-in-github",
        "colab_type": "text"
      },
      "source": [
        "<a href=\"https://colab.research.google.com/github/v5v5/DataGenerator/blob/master/random_alcoholic_beverages.ipynb\" target=\"_parent\"><img src=\"https://colab.research.google.com/assets/colab-badge.svg\" alt=\"Open In Colab\"/></a>"
      ]
    },
    {
      "cell_type": "code",
      "metadata": {
        "id": "GHMmQ40YE1Mb"
      },
      "source": [
        "import datetime\n",
        "import random"
      ],
      "execution_count": 36,
      "outputs": []
    },
    {
      "cell_type": "code",
      "metadata": {
        "id": "J5ZR_BzhUgXD"
      },
      "source": [
        "beverages = {\n",
        "    'fermented': ['wines', 'cider', 'perry'],\n",
        "    'brewed and fermented': ['beer', 'sake'],\n",
        "    'distilled': {\n",
        "        'spirits': ['wiskey', 'rum', 'gin', 'vodka', 'tequila', 'brandy'],\n",
        "        'liqueurs': ['curacao', 'caurum', 'tia maria'],\n",
        "        'eaux de vie': ['fruit brandies', 'applejack', 'calvados']\n",
        "        }\n",
        "    }"
      ],
      "execution_count": 37,
      "outputs": []
    },
    {
      "cell_type": "code",
      "metadata": {
        "id": "sxdr4FMzBFTK"
      },
      "source": [
        "def get_beverages_list():\n",
        "  l = []\n",
        "  for key0 in beverages.keys():\n",
        "    value0 = beverages[key0]\n",
        "    l.extend(value0)\n",
        "    if isinstance(value0, dict):\n",
        "      for key1 in value0.keys():\n",
        "        value1 = value0[key1]\n",
        "        l.extend(value1)\n",
        "  return l"
      ],
      "execution_count": 38,
      "outputs": []
    },
    {
      "cell_type": "code",
      "metadata": {
        "colab": {
          "base_uri": "https://localhost:8080/",
          "height": 36
        },
        "id": "XFUau_bcGVU2",
        "outputId": "b24919e8-e72b-452c-a900-b5b29a303f62"
      },
      "source": [
        "def what_do_we_drink_today():\n",
        "  # weekday = datetime.datetime.today().weekday()\n",
        "  weekday = datetime.datetime.now().strftime(\"%A\")\n",
        "  beverages_list = get_beverages_list()\n",
        "  beverage = random.choice(beverages_list)\n",
        "  text = f\"Today is {weekday} and we drink {beverage}\"\n",
        "  return text\n",
        "\n",
        "what_do_we_drink_today()"
      ],
      "execution_count": 44,
      "outputs": [
        {
          "output_type": "execute_result",
          "data": {
            "application/vnd.google.colaboratory.intrinsic+json": {
              "type": "string"
            },
            "text/plain": [
              "'Today is Wednesday and we drink fruit brandies'"
            ]
          },
          "metadata": {
            "tags": []
          },
          "execution_count": 44
        }
      ]
    }
  ]
}