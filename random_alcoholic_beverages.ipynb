{
  "nbformat": 4,
  "nbformat_minor": 0,
  "metadata": {
    "colab": {
      "name": "random alcoholic beverages",
      "provenance": [],
      "authorship_tag": "ABX9TyPVYY7pxPT+nFXDf/lSToh9",
      "include_colab_link": true
    },
    "kernelspec": {
      "name": "python3",
      "display_name": "Python 3"
    },
    "language_info": {
      "name": "python"
    }
  },
  "cells": [
    {
      "cell_type": "markdown",
      "metadata": {
        "id": "view-in-github",
        "colab_type": "text"
      },
      "source": [
        "<a href=\"https://colab.research.google.com/github/v5v5/DataGenerator/blob/master/random_alcoholic_beverages.ipynb\" target=\"_parent\"><img src=\"https://colab.research.google.com/assets/colab-badge.svg\" alt=\"Open In Colab\"/></a>"
      ]
    },
    {
      "cell_type": "code",
      "metadata": {
        "id": "J5ZR_BzhUgXD"
      },
      "source": [
        "beverages = {\n",
        "    'fermented': ['wines', 'cider', 'perry'],\n",
        "    'brewed and fermented': ['beer', 'sake'],\n",
        "    'distilled': {\n",
        "        'spirits': ['wiskey', 'rum', 'gin', 'vodka', 'tequila', 'brandy'],\n",
        "        'liqueurs': ['curacao', 'caurum', 'tia maria'],\n",
        "        'eaux de vie': ['fruit brandies', 'applejack', 'calvados']\n",
        "        }\n",
        "    }"
      ],
      "execution_count": 1,
      "outputs": []
    },
    {
      "cell_type": "code",
      "metadata": {
        "colab": {
          "base_uri": "https://localhost:8080/"
        },
        "id": "kTixS8OYWcPx",
        "outputId": "c0254ff3-5d90-4c9f-ae6d-7ca68159a54f"
      },
      "source": [
        "beverages"
      ],
      "execution_count": 2,
      "outputs": [
        {
          "output_type": "execute_result",
          "data": {
            "text/plain": [
              "{'brewed and fermented': ['beer', 'sake'],\n",
              " 'distilled': {'eaux de vie': ['fruit brandies', 'applejack', 'calvados'],\n",
              "  'liqueurs': ['curacao', 'caurum', 'tia maria'],\n",
              "  'spirits': ['wiskey', 'rum', 'gin', 'vodka', 'tequila', 'brandy']},\n",
              " 'fermented': ['wines', 'cider', 'perry']}"
            ]
          },
          "metadata": {
            "tags": []
          },
          "execution_count": 2
        }
      ]
    }
  ]
}